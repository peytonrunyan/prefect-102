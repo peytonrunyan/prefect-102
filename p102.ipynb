{
 "cells": [
  {
   "cell_type": "markdown",
   "metadata": {},
   "source": [
    "## **Understanding dynamic flows**\n",
    "\n",
    "You may have come across the term “DAG” when researching workflow orchestration. You may have even used a DAG before. Or you may have never heard the word before and you have no clue what I’m referring too. \n",
    "\n",
    "Well, in the eyes of Prefect 2.0, you are all equal! Prefect 2.0 does not use DAGs for its flows. For those of you who have been previously constrained by DAGs, you’ll be happy to know that Prefect allows you to have branching logic and loops using essentially pure Python syntax. For those of you unfamiliar with DAGs, the key takeaway is that if you can write the logic in Python, you can apply that logic to a Prefect flow.\n",
    "\n",
    "It remains easier to show than tell, so let’s jump into it!"
   ]
  },
  {
   "cell_type": "code",
   "execution_count": null,
   "metadata": {},
   "outputs": [],
   "source": [
    "import random\n",
    "from prefect import flow, task\n",
    "\n",
    "@task(name=\"Get a letter\")   \n",
    "def get_letter():\n",
    "    choices = [\"A\", \"B\"]\n",
    "    res = random.choice(choices)\n",
    "    return res\n",
    "\n",
    "@task(name=\"Task A\")   \n",
    "def a_stuff():\n",
    "    return \"We are doing Task A\"\n",
    "\n",
    "@task(name=\"Task B\")  \n",
    "def b_stuff():\n",
    "    return \"We are doing Task B\"\n",
    "\n",
    "@task(name=\"Print Result\")\n",
    "def print_result(letter: str, result: str):\n",
    "    print(\"*\"*20)\n",
    "    print(f\"Letter: {letter}\")\n",
    "    print(f\"Result: {result}\")\n",
    "    print(\"*\"*20)\n",
    "\n",
    "@flow(name=\"Branching Flow\")    \n",
    "def pipeline():\n",
    "    letter = get_letter()\n",
    "\n",
    "    if letter.result() == \"A\":\n",
    "        res = a_stuff()\n",
    "    else:\n",
    "        res = b_stuff()\n",
    "    \n",
    "    print_result(letter, res)\n",
    "\n",
    "\n",
    "if __name__ == \"__main__\":\n",
    "    pipeline()"
   ]
  },
  {
   "cell_type": "markdown",
   "metadata": {},
   "source": [
    "### **So what’s going on here?**\n",
    "\n",
    "We have a task `get_letter()` that will return either `\"A\"` or `\"B\"`. If look at our flow, we see that we have an `if/else` block, and we will execute one task if `get_letter` returns `\"A\"` and different task otherwise. \n",
    "\n",
    "This looks almost exactly like the Python you’re used to, with one exception: we call `get_result()` on the output of our function `get_letter()`. This is the only piece of Prefect syntax that you have memorize, so bear with me while I explain. \n",
    "\n",
    "**Explanation for those familiar with async**\n",
    "\n",
    "Prefect tasks return futures (specifically a `PrefectFuture`). So when we say `letter = get_letter()` , `letter` is a future. We can’t use its value for the `if` statement until it resolves. By calling `letter.result()` we await the result of the future before beginning the `if/else` logic.\n",
    "\n",
    "**A brief explanation of futures those unfamiliar with async**\n",
    "\n",
    "#TODO\n",
    "\n",
    "### **Passing results to other tasks**\n",
    "\n",
    "You might have noticed that when we pass results to other tasks, like `print_result(letter, res)` we don’t have to call `.result()` on either `letter` or `res`. This is because Prefect knows that these are futures, and automatically calls it for you when you pass the futures to other tasks. \n",
    "\n",
    "### **Passing results to functions that aren’t tasks**\n",
    "\n",
    "Prefect tasks will call `.result()` because they are Prefect tasks. Regular functions won’t do this for you, so you should call `.result()` when passing the results of Prefect tasks to regular Python functions. \n",
    "\n",
    "In short, if you will be performing Python logic on the results of a Prefect task, and it’s happening inside of a flow, but not inside of a task, you need to call `.result()`."
   ]
  },
  {
   "cell_type": "code",
   "execution_count": null,
   "metadata": {},
   "outputs": [],
   "source": [
    "from prefect import flow, task\n",
    "\n",
    "def regular_func_add_one(n: int):\n",
    "    return n + 1\n",
    "\n",
    "@task\n",
    "def task_return_two():\n",
    "    return 2\n",
    "\n",
    "@flow\n",
    "def my_flow():\n",
    "    two = task_return_two()\n",
    "    print(\n",
    "        regular_func_add_one(\n",
    "            two.result()\n",
    "        )\n",
    "    )\n",
    "\n",
    "if __name__ == \"__main__\":\n",
    "    my_flow()"
   ]
  },
  {
   "cell_type": "markdown",
   "metadata": {},
   "source": [
    "### **Looping in your flows**\n",
    "\n",
    "Looping is trivial to do in Prefect. Just write a loop. That’s literally it."
   ]
  },
  {
   "cell_type": "code",
   "execution_count": 3,
   "metadata": {},
   "outputs": [],
   "source": [
    "@flow(name=\"Branching Flow\")    \n",
    "def pipeline():\n",
    "    letter_box = []\n",
    "    for i in range(10):\n",
    "        letter = get_letter()\n",
    "        letter_box.append(letter.result())\n",
    "\n",
    "    print(\"*\"*20) \n",
    "    print(letter_box)\n",
    "    print(\"*\"*20) "
   ]
  },
  {
   "cell_type": "markdown",
   "metadata": {},
   "source": [
    "A note on the flow above. We are getting the letter future from get_letter() and then appending letter.result() to our list. We can skip the middle man and just call letter_box.append(get_letter().result() as shown below:"
   ]
  },
  {
   "cell_type": "markdown",
   "metadata": {},
   "source": [
    "### **But what about While loops?**\n",
    "Also totally okay in Prefect 2.0!"
   ]
  },
  {
   "cell_type": "code",
   "execution_count": 4,
   "metadata": {},
   "outputs": [],
   "source": [
    "@flow(name=\"Infinite Loop Flow\")    \n",
    "def pipeline():\n",
    "    letter_box = []\n",
    "    while True:\n",
    "        letter_box.append(get_letter().result())\n",
    "        print(letter_box)\n",
    "        time.sleep(1)"
   ]
  },
  {
   "cell_type": "markdown",
   "metadata": {},
   "source": [
    "## Subflows\n",
    "\n",
    "So we now know that we can use `if/else` logic, loops, and regular Python functions in our flows. The final frontier is flows. Spoiler alert: yes, you absolutely can use other flows inside of your Prefect flows. Let’s check out an example:"
   ]
  },
  {
   "cell_type": "code",
   "execution_count": null,
   "metadata": {},
   "outputs": [],
   "source": [
    "import random\n",
    "from prefect import flow, task\n",
    "\n",
    "@task(name=\"Get a letter\")   \n",
    "def get_letter():\n",
    "    choices = [\"A\", \"B\"]\n",
    "    res = random.choice(choices)\n",
    "    return res\n",
    "\n",
    "@flow(name=\"Letterbox Flow\")    \n",
    "def letterbox_pipeline():\n",
    "    letter_box = []\n",
    "    for i in range(10):\n",
    "        letter_box.append(get_letter().result())\n",
    "\n",
    "    return letter_box\n",
    "\n",
    "@task(name=\"Count letters\")\n",
    "def count_letters(letterbox):\n",
    "    counts = {\"A\": 0, \"B\": 0}\n",
    "    for letter in letterbox:\n",
    "        if letter == \"A\":\n",
    "            counts[\"A\"] += 1\n",
    "        else:\n",
    "            counts[\"B\"] += 1\n",
    "\n",
    "    return counts\n",
    "\n",
    "@flow(name=\"Multi-flow!\")\n",
    "def multi_flow():\n",
    "    letters = letterbox_pipeline()\n",
    "    counts = count_letters(letters)\n",
    "    print(counts.result())\n",
    "\n",
    "if __name__ == \"__main__\":\n",
    "    multi_flow()"
   ]
  },
  {
   "cell_type": "markdown",
   "metadata": {},
   "source": [
    "### Understanding the new flow\n",
    "We have separated our pipeline into new components. \n",
    "* We have the flow `Letterbox Flow` which gets a list of letters by looping over the `get_letter` task\n",
    "* We have another flow `Multi-flow` which \n",
    "    * runs `Letterbox Flow`\n",
    "    * pass the those results to a task that counts in the incidences of each letter\n",
    "    * then finally prints the results\n",
    "\n",
    "We call a flow that is being run inside of a flow a `sub-flow`. This sub-flow is created the same way that any other flow is created, and can be run as its own flow. What makes it a sub-flow is simply the fact that we are running it inside of another flow.\n",
    "\n",
    "As you can see from the example, we are able to use a flow just like we would a task. We can pass the results of tasks and flows to other tasks and flows as we see fit."
   ]
  },
  {
   "cell_type": "markdown",
   "metadata": {},
   "source": [
    "### Using branching logic with sub-flows\n",
    "There are many situations where you might want the results of one of your tasks to trigger a flow under a specific set of circumstances. To take an example from my previous work: maybe you have a task that checks for distribution shift and kicks off of an expensive machine learning training job only if the results are above a certain threshold. \n",
    "\n",
    "Using branching logic with sub-flows is no different than for tasks. In the example below, we modify if the previous example to only run `Letterbox Flow` if we randomly select an even number. Otherwise we set the value of letters to be a different value."
   ]
  },
  {
   "cell_type": "code",
   "execution_count": 12,
   "metadata": {},
   "outputs": [
    {
     "name": "stderr",
     "output_type": "stream",
     "text": [
      "10:39:24.915 | INFO    | prefect.engine - Created flow run 'competent-mantis' for flow 'Multi-flow-branching'\n",
      "10:39:24.916 | INFO    | Flow run 'competent-mantis' - Using task runner 'ConcurrentTaskRunner'\n",
      "10:39:24.921 | WARNING | Flow run 'competent-mantis' - No default storage is configured on the server. Results from this flow run will be stored in a temporary directory in its runtime environment.\n",
      "10:39:24.965 | INFO    | Flow run 'competent-mantis' - Created subflow run 'lyrical-avocet' for flow 'Letterbox Flow'\n",
      "10:39:24.987 | INFO    | Flow run 'lyrical-avocet' - Created task run 'Get a letter-d430fbfc-50' for task 'Get a letter'\n",
      "10:39:25.010 | INFO    | Task run 'Get a letter-d430fbfc-50' - Finished in state Completed()\n",
      "10:39:25.023 | INFO    | Flow run 'lyrical-avocet' - Created task run 'Get a letter-d430fbfc-51' for task 'Get a letter'\n",
      "10:39:25.047 | INFO    | Task run 'Get a letter-d430fbfc-51' - Finished in state Completed()\n",
      "10:39:25.058 | INFO    | Flow run 'lyrical-avocet' - Created task run 'Get a letter-d430fbfc-52' for task 'Get a letter'\n",
      "10:39:25.080 | INFO    | Task run 'Get a letter-d430fbfc-52' - Finished in state Completed()\n",
      "10:39:25.091 | INFO    | Flow run 'lyrical-avocet' - Created task run 'Get a letter-d430fbfc-53' for task 'Get a letter'\n",
      "10:39:25.113 | INFO    | Task run 'Get a letter-d430fbfc-53' - Finished in state Completed()\n",
      "10:39:25.124 | INFO    | Flow run 'lyrical-avocet' - Created task run 'Get a letter-d430fbfc-54' for task 'Get a letter'\n",
      "10:39:25.149 | INFO    | Task run 'Get a letter-d430fbfc-54' - Finished in state Completed()\n",
      "10:39:25.159 | INFO    | Flow run 'lyrical-avocet' - Created task run 'Get a letter-d430fbfc-55' for task 'Get a letter'\n",
      "10:39:25.185 | INFO    | Task run 'Get a letter-d430fbfc-55' - Finished in state Completed()\n",
      "10:39:25.198 | INFO    | Flow run 'lyrical-avocet' - Created task run 'Get a letter-d430fbfc-56' for task 'Get a letter'\n",
      "10:39:25.222 | INFO    | Task run 'Get a letter-d430fbfc-56' - Finished in state Completed()\n",
      "10:39:25.235 | INFO    | Flow run 'lyrical-avocet' - Created task run 'Get a letter-d430fbfc-57' for task 'Get a letter'\n",
      "10:39:25.260 | INFO    | Task run 'Get a letter-d430fbfc-57' - Finished in state Completed()\n",
      "10:39:25.272 | INFO    | Flow run 'lyrical-avocet' - Created task run 'Get a letter-d430fbfc-58' for task 'Get a letter'\n",
      "10:39:25.298 | INFO    | Task run 'Get a letter-d430fbfc-58' - Finished in state Completed()\n",
      "10:39:25.310 | INFO    | Flow run 'lyrical-avocet' - Created task run 'Get a letter-d430fbfc-59' for task 'Get a letter'\n",
      "10:39:25.337 | INFO    | Task run 'Get a letter-d430fbfc-59' - Finished in state Completed()\n",
      "10:39:25.353 | INFO    | Flow run 'lyrical-avocet' - Finished in state Completed()\n",
      "10:39:25.367 | INFO    | Flow run 'competent-mantis' - Created task run 'Count letters-59d7afaa-6' for task 'Count letters'\n",
      "10:39:25.391 | INFO    | Task run 'Count letters-59d7afaa-6' - Finished in state Completed()\n",
      "10:39:25.401 | INFO    | Flow run 'competent-mantis' - Finished in state Completed('All states completed.')\n"
     ]
    },
    {
     "name": "stdout",
     "output_type": "stream",
     "text": [
      "{'A': 4, 'B': 6}\n"
     ]
    }
   ],
   "source": [
    "@flow(name=\"Multi-flow-branching\")\n",
    "def multi_flow():\n",
    "    rand_res = random.randint(1, 10)\n",
    "    if rand_res % 2 == 0:\n",
    "        letters = letterbox_pipeline()\n",
    "    else:\n",
    "        letters = [\"A\", \"B\", \"A\"]\n",
    "    counts = count_letters(letters)\n",
    "    print(counts.result())\n",
    "\n",
    "if __name__ == \"__main__\":\n",
    "    multi_flow()"
   ]
  },
  {
   "cell_type": "markdown",
   "metadata": {},
   "source": [
    "## Examining the UI with sub-flows\n",
    "Start the Prefect app using `prefect orion start` and then navigate to the UI and follow these steps:\n",
    "1. Click the Prefect icon on the left to get to the home screen \n",
    "2. Click the `Flows` tab beneath the `Run History` chart\n",
    "3. One of your options should be `Multi-flow-branching` if you copied our code directly, or whatever you named the last example before you ran it. Click on its name. This will open up a sidebar\n",
    "4. Find the box on the sidebar that says `2 COMPLETED` (or however many times you ran it). Click on that box, which will take you to the next screen.\n",
    "5. In the new screen, click on the `Flow Runs` tab\n",
    "6. Click on any of those runs to investigate them further\n",
    "7. Click the expand icon on the Radar chart\n",
    "\n",
    "<img src=\"images/steps-1.png\" width=600>\n",
    "<br>\n",
    "<img src=\"images/steps-2.png\" width=600>\n",
    "<br>\n",
    "<img src=\"images/steps-3.png\" width=600>\n",
    "\n",
    "### Viewing dynamic flows with the Radar Chart\n",
    "The ability to create dynamic flows is incredibly powerful, but it means that a traditional DAG graph will not work for visualizing our execution. Some tasks may or may not run based on branching logic, or may run multiple times based on loop logic. Prefect 2.0 uses the Radar Chart to visualize this dynamic execution. \n",
    "\n",
    "As we mentioned in Prefect 101, Radar Chart execution is visualized with the innermost part of a circle representing the earliest-running tasks, and the outermost part of the circle showing the last tasks.\n",
    "\n",
    "We will demonstrate the use of the Radar Chart with the last flow that we ran - `Multi-flow-branching`. Remember, the sub-flow only ran if our random number was even. Let's look at the case where it ran successfully:\n",
    "\n",
    "<img src=\"images/both-run-far.png\" width=600>\n",
    "\n",
    "Zoomed in, it looks like:\n",
    "\n",
    "<img src=\"images/both-run-close.png\" width=600>\n",
    "\n",
    "We can see that the inner-most item is the sub-flow, which ran 10 tasks. It is then connected to the task `Count letters` by a green line. This line means that the `Count letters` task depends on the sub-flow. It can be easier to conceptualize it as \"the sub-flow passes its results to `Count letters`\".\n",
    "\n",
    "If we click on `10 task runs` it will take us to the Radar Chart for for the sub-flow. \n",
    "\n",
    "<img src=\"images/sub-flow-zoom.png\" width=400>\n",
    "\n",
    "We can see that all ten tasks are located in the same ring, with no inward or outward arrows. This is because the tasks did not depend on any other tasks, and had no other tasks that depended on them.\n",
    "\n",
    "<img src=\"images/letterbox-flow.png\" width=600>\n",
    "\n",
    "Finally in the case that `Multi-flow-branching` had an odd number, we will see a Radar Chart with a single task. If we look back at the Flow we will see that only the task `Count letters` runs in the case of an odd number, so this correctly captures our flow's execution.\n",
    "\n",
    "<img src=\"images/one-ran.png\" width=600>"
   ]
  },
  {
   "cell_type": "code",
   "execution_count": null,
   "metadata": {},
   "outputs": [],
   "source": []
  },
  {
   "cell_type": "code",
   "execution_count": null,
   "metadata": {},
   "outputs": [],
   "source": []
  }
 ],
 "metadata": {
  "interpreter": {
   "hash": "06e6f1dd4f17d3660aa7db23f6d2ce3316c4713bf412bd57fdef93ef3a7eba73"
  },
  "kernelspec": {
   "display_name": "Python 3.8.11 ('base')",
   "language": "python",
   "name": "python3"
  },
  "language_info": {
   "codemirror_mode": {
    "name": "ipython",
    "version": 3
   },
   "file_extension": ".py",
   "mimetype": "text/x-python",
   "name": "python",
   "nbconvert_exporter": "python",
   "pygments_lexer": "ipython3",
   "version": "3.8.11"
  },
  "orig_nbformat": 4
 },
 "nbformat": 4,
 "nbformat_minor": 2
}
